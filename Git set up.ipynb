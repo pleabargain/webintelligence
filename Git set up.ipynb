{
 "metadata": {
  "name": ""
 },
 "nbformat": 3,
 "nbformat_minor": 0,
 "worksheets": [
  {
   "cells": [
    {
     "cell_type": "code",
     "collapsed": false,
     "input": [
      "%%bash\n",
      "git config --global user.name \"Dennis Daniels\"\n",
      "git config --global user.email \"dennisgdaniels@gmail.com\""
     ],
     "language": "python",
     "metadata": {},
     "outputs": [],
     "prompt_number": 1
    },
    {
     "cell_type": "code",
     "collapsed": false,
     "input": [
      "%%bash\n",
      "# Put here your preferred editor. If this is not set, git will honor\n",
      "# the $EDITOR environment variable\n",
      "git config --global core.editor /usr/bin/gedit  # my lightweight unix editor\n",
      "\n",
      "# On Windows Notepad will do in a pinch, I recommend Notepad++ as a free alternative\n",
      "# On the mac, you can set nano or emacs as a basic option\n",
      "\n",
      "# And while we're at it, we also turn on the use of color, which is very useful\n",
      "git config --global color.ui \"auto\""
     ],
     "language": "python",
     "metadata": {},
     "outputs": [],
     "prompt_number": 2
    },
    {
     "cell_type": "code",
     "collapsed": false,
     "input": [
      "%%bash \n",
      "git config --global credential.helper cache\n",
      "# Set the cache to timeout after 2 hours (setting is in seconds)\n",
      "git config --global credential.helper 'cache --timeout=7200'"
     ],
     "language": "python",
     "metadata": {},
     "outputs": [],
     "prompt_number": 3
    },
    {
     "cell_type": "code",
     "collapsed": false,
     "input": [
      "!git"
     ],
     "language": "python",
     "metadata": {},
     "outputs": [
      {
       "output_type": "stream",
       "stream": "stdout",
       "text": [
        "usage: git [--version] [--exec-path[=<path>]] [--html-path] [--man-path] [--info-path]\r\n",
        "           [-p|--paginate|--no-pager] [--no-replace-objects] [--bare]\r\n",
        "           [--git-dir=<path>] [--work-tree=<path>] [--namespace=<name>]\r\n",
        "           [-c name=value] [--help]\r\n",
        "           <command> [<args>]\r\n",
        "\r\n",
        "The most commonly used git commands are:\r\n",
        "   add        Add file contents to the index\r\n",
        "   bisect     Find by binary search the change that introduced a bug\r\n",
        "   branch     List, create, or delete branches\r\n",
        "   checkout   Checkout a branch or paths to the working tree\r\n",
        "   clone      Clone a repository into a new directory\r\n",
        "   commit     Record changes to the repository\r\n",
        "   diff       Show changes between commits, commit and working tree, etc\r\n",
        "   fetch      Download objects and refs from another repository\r\n",
        "   grep       Print lines matching a pattern\r\n",
        "   init       Create an empty git repository or reinitialize an existing one\r\n",
        "   log        Show commit logs\r\n",
        "   merge      Join two or more development histories together\r\n",
        "   mv         Move or rename a file, a directory, or a symlink\r\n",
        "   pull       Fetch from and merge with another repository or a local branch\r\n",
        "   push       Update remote refs along with associated objects\r\n",
        "   rebase     Forward-port local commits to the updated upstream head\r\n",
        "   reset      Reset current HEAD to the specified state\r\n",
        "   rm         Remove files from the working tree and from the index\r\n",
        "   show       Show various types of objects\r\n",
        "   status     Show the working tree status\r\n",
        "   tag        Create, list, delete or verify a tag object signed with GPG\r\n",
        "\r\n",
        "See 'git help <command>' for more information on a specific command.\r\n"
       ]
      }
     ],
     "prompt_number": 4
    },
    {
     "cell_type": "code",
     "collapsed": false,
     "input": [
      "%pwd"
     ],
     "language": "python",
     "metadata": {},
     "outputs": [
      {
       "metadata": {},
       "output_type": "pyout",
       "prompt_number": 5,
       "text": [
        "'/home/dennis/Dropbox/python/web-intelligence'"
       ]
      }
     ],
     "prompt_number": 5
    },
    {
     "cell_type": "code",
     "collapsed": false,
     "input": [
      "%%bash \n",
      "#need the bash for this to work\n",
      "git init"
     ],
     "language": "python",
     "metadata": {},
     "outputs": [
      {
       "output_type": "stream",
       "stream": "stdout",
       "text": [
        "Initialized empty Git repository in /home/dennis/Dropbox/python/web-intelligence/.git/\n"
       ]
      }
     ],
     "prompt_number": 7
    },
    {
     "cell_type": "code",
     "collapsed": false,
     "input": [
      "%%bash\n",
      "\n",
      "#show all the files including .git\n",
      "ls -al"
     ],
     "language": "python",
     "metadata": {},
     "outputs": [
      {
       "output_type": "stream",
       "stream": "stdout",
       "text": [
        "total 28\n",
        "drwxr-xr-x  4 dennis dennis 4096 Aug 30 17:21 .\n",
        "drwxr-xr-x 16 dennis dennis 4096 Aug 30 17:18 ..\n",
        "drwxr-xr-x  7 dennis dennis 4096 Aug 30 17:21 .git\n",
        "-rw-r--r--  1 dennis dennis 4774 Aug 30 17:21 Git set up.ipynb\n",
        "drwxr-xr-x  2 dennis dennis 4096 Aug 30 17:20 .ipynb_checkpoints\n",
        "-rw-r--r--  1 dennis dennis   91 Aug 30 17:19 Untitled0.ipynb\n"
       ]
      }
     ],
     "prompt_number": 8
    },
    {
     "cell_type": "code",
     "collapsed": false,
     "input": [
      "%%bash\n",
      "\n",
      "git status"
     ],
     "language": "python",
     "metadata": {},
     "outputs": [
      {
       "output_type": "stream",
       "stream": "stdout",
       "text": [
        "# On branch master\n",
        "#\n",
        "# Initial commit\n",
        "#\n",
        "# Untracked files:\n",
        "#   (use \"git add <file>...\" to include in what will be committed)\n",
        "#\n",
        "#\t.ipynb_checkpoints/\n",
        "#\tGit set up.ipynb\n",
        "#\tUntitled0.ipynb\n",
        "nothing added to commit but untracked files present (use \"git add\" to track)\n"
       ]
      }
     ],
     "prompt_number": 9
    },
    {
     "cell_type": "code",
     "collapsed": false,
     "input": [
      "%%bash\n",
      "\n",
      "git add *ipynb\n"
     ],
     "language": "python",
     "metadata": {},
     "outputs": []
    }
   ],
   "metadata": {}
  }
 ]
}